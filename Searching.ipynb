{
  "nbformat": 4,
  "nbformat_minor": 0,
  "metadata": {
    "colab": {
      "provenance": []
    },
    "kernelspec": {
      "name": "python3",
      "display_name": "Python 3"
    },
    "language_info": {
      "name": "python"
    }
  },
  "cells": [
    {
      "cell_type": "code",
      "source": [
        "!pip install Sastrawi\n",
        "!pip install rapidfuzz\n",
        "\n",
        "from rapidfuzz import fuzz\n",
        "from rapidfuzz import process\n",
        "\n",
        "import pandas as pd\n",
        "import numpy as np\n",
        "import tensorflow as tf\n",
        "import matplotlib.pyplot as plt\n",
        "import seaborn as sns\n",
        "import plotly.express as px\n",
        "\n",
        "from nltk.tokenize import word_tokenize\n",
        "from pathlib import Path\n",
        "from zipfile import ZipFile\n",
        "\n",
        "from Sastrawi.Stemmer.StemmerFactory import StemmerFactory\n",
        "from Sastrawi.StopWordRemover.StopWordRemoverFactory import StopWordRemoverFactory\n",
        "\n",
        "from sklearn.impute import SimpleImputer\n",
        "from sklearn.feature_extraction.text import TfidfVectorizer\n",
        "from sklearn.metrics.pairwise import cosine_similarity\n",
        "\n",
        "tv = TfidfVectorizer(max_features=5000)\n",
        "stem = StemmerFactory().create_stemmer()\n",
        "stopword = StopWordRemoverFactory().create_stop_word_remover()"
      ],
      "metadata": {
        "id": "K2b3OpDYz3pc",
        "colab": {
          "base_uri": "https://localhost:8080/"
        },
        "outputId": "fc57b1c1-a6bb-48ea-ca17-07e20465d124"
      },
      "execution_count": null,
      "outputs": [
        {
          "output_type": "stream",
          "name": "stdout",
          "text": [
            "Looking in indexes: https://pypi.org/simple, https://us-python.pkg.dev/colab-wheels/public/simple/\n",
            "Collecting Sastrawi\n",
            "  Downloading Sastrawi-1.0.1-py2.py3-none-any.whl (209 kB)\n",
            "\u001b[2K     \u001b[90m━━━━━━━━━━━━━━━━━━━━━━━━━━━━━━━━━━━━━━━\u001b[0m \u001b[32m209.7/209.7 kB\u001b[0m \u001b[31m4.9 MB/s\u001b[0m eta \u001b[36m0:00:00\u001b[0m\n",
            "\u001b[?25hInstalling collected packages: Sastrawi\n",
            "Successfully installed Sastrawi-1.0.1\n",
            "Looking in indexes: https://pypi.org/simple, https://us-python.pkg.dev/colab-wheels/public/simple/\n",
            "Collecting rapidfuzz\n",
            "  Downloading rapidfuzz-3.1.1-cp310-cp310-manylinux_2_17_x86_64.manylinux2014_x86_64.whl (3.1 MB)\n",
            "\u001b[2K     \u001b[90m━━━━━━━━━━━━━━━━━━━━━━━━━━━━━━━━━━━━━━━━\u001b[0m \u001b[32m3.1/3.1 MB\u001b[0m \u001b[31m29.6 MB/s\u001b[0m eta \u001b[36m0:00:00\u001b[0m\n",
            "\u001b[?25hInstalling collected packages: rapidfuzz\n",
            "Successfully installed rapidfuzz-3.1.1\n"
          ]
        }
      ]
    },
    {
      "cell_type": "code",
      "source": [
        "from google.colab import drive\n",
        "drive.mount('/content/drive')"
      ],
      "metadata": {
        "colab": {
          "base_uri": "https://localhost:8080/"
        },
        "id": "g88JqwC70LGe",
        "outputId": "438b2df6-8ef6-44f1-ecda-67648d96c663"
      },
      "execution_count": null,
      "outputs": [
        {
          "output_type": "stream",
          "name": "stdout",
          "text": [
            "Mounted at /content/drive\n"
          ]
        }
      ]
    },
    {
      "cell_type": "code",
      "source": [
        "# Membaca dataset tourism\n",
        "tourism = pd.read_csv('/content/drive/MyDrive/datasetRevisi.csv', encoding='latin-1')\n",
        "\n",
        "# Membaca dataset rating\n",
        "rating = pd.read_csv('/content/drive/MyDrive/ratingDataset.csv')"
      ],
      "metadata": {
        "id": "okw21HLZ0QNU"
      },
      "execution_count": null,
      "outputs": []
    },
    {
      "cell_type": "code",
      "source": [
        "#Join/merge dataset tourism dan rating berdasarkan id tempat wisata(place_id)\n",
        "df = tourism.merge(rating, how=\"left\", on=\"Place_Id\")\n",
        "#menampilkan beberapa data pada dataframe\n",
        "df.head()"
      ],
      "metadata": {
        "id": "oS10gsCR0aaX"
      },
      "execution_count": null,
      "outputs": []
    },
    {
      "cell_type": "code",
      "source": [
        "def preprocessing(data):\n",
        "    data = data.lower()\n",
        "    data = stem.stem(data)\n",
        "    data = stopword.remove(data)\n",
        "    return data"
      ],
      "metadata": {
        "id": "RiXhLeyD0d3z"
      },
      "execution_count": null,
      "outputs": []
    },
    {
      "cell_type": "code",
      "source": [
        "data_content_based_filtering = tourism.copy()\n",
        "data_content_based_filtering['Tags']  = data_content_based_filtering['Description'] + ' ' + data_content_based_filtering['Category'] + data_content_based_filtering['City']\n",
        "data_content_based_filtering.drop(['Weekend_Price','Weekday_Price','Gambar','Coordinate','Lat', 'Long','Unnamed: 13',],axis=1,inplace=True)\n",
        "data_content_based_filtering"
      ],
      "metadata": {
        "id": "dsIU8uCZ0g2S"
      },
      "execution_count": null,
      "outputs": []
    },
    {
      "cell_type": "code",
      "source": [
        "data_content_based_filtering.Tags = data_content_based_filtering.Tags.apply(preprocessing)\n",
        "# data_content_based_filtering.Place_Name = data_content_based_filtering.Place_Name.apply(preprocessing)\n",
        "data_content_based_filtering"
      ],
      "metadata": {
        "colab": {
          "base_uri": "https://localhost:8080/",
          "height": 641
        },
        "id": "Q5w3ai740lwy",
        "outputId": "7f6e6db6-cb92-4057-a66a-fe45f65577a1"
      },
      "execution_count": null,
      "outputs": [
        {
          "output_type": "execute_result",
          "data": {
            "text/plain": [
              "    Place_Id               Place_Name  \\\n",
              "0          2               Agung Bali   \n",
              "1         10               Bali Swing   \n",
              "2         22     Garuda Wisnu Kencana   \n",
              "3         29          Pantai Jimbaran   \n",
              "4         30  Pabrik Kata-Kata Joger    \n",
              "..       ...                      ...   \n",
              "70        50         Pantai Pasih Uug   \n",
              "71        16    Danau Beratan Bedugul   \n",
              "72        28     Jatiluwih Green Land   \n",
              "73        61      Pura Luhur Batukaru   \n",
              "74        64           Pura Tanah Lot   \n",
              "\n",
              "                                          Description    Category       City  \\\n",
              "0   Dapatkan berbagai produk oleh-oleh khas Bali b...     Belanja     Badung   \n",
              "1   Bali Swing Tegalalang yang menggantung di anta...    Rekreasi     Badung   \n",
              "2   Patung Garuda Wisnu Kencana menjadi ikon pariw...      Budaya     Badung   \n",
              "3   Pantai Jimbaran Bali adalah salah satu pantai ...      Pantai     Badung   \n",
              "4   Bali Joger terkenal di kalangan wisatawan seba...     Belanja     Badung   \n",
              "..                                                ...         ...        ...   \n",
              "70  Broken Beach atau yang lebih dikenal sebagai P...      Pantai  Klungkung   \n",
              "71  Danau Beratan Bedugul merupakan sebuah danau y...        Alam    Tabanan   \n",
              "72  Nominasi untuk penunjukan sebagai situs Warisa...  Agrowisata    Tabanan   \n",
              "73  Pura Luhur Batukaru adalah sebuah pura yang te...    Religius    Tabanan   \n",
              "74  Tanah Lot salah satu pura penting bagi umat Hi...      Pantai    Tabanan   \n",
              "\n",
              "    Rating                                             Alamat  \\\n",
              "0      4.0          Jln. Dewi Sri No.18XX, Kuta, Badung, Bali   \n",
              "1      4.5  Jl. Dewi Saraswati No.7, Bongkasa Pertiwi, Kec...   \n",
              "2      3.5  Jl. Raya Uluwatu, Ungasan, Kec. Kuta Sel., Kab...   \n",
              "3      4.0  Kecamatan Kuta selatan, kabupaten Badung, Prov...   \n",
              "4      4.0  Jl. Raya Kuta, Kuta, Kec. Kuta, Kabupaten Badu...   \n",
              "..     ...                                                ...   \n",
              "70     4.5  Lembongan, Kec. Nusa Penida, Kabupaten Klungku...   \n",
              "71     4.5             Kec. Baturiti, Kabupaten Tabanan, Bali   \n",
              "72     4.5  Jl. Jatiluwih Kawan No.Desa, Jatiluwih, Kec. P...   \n",
              "73     4.5  Jl. Penatahan - Wongayagede, Wongaya Gede, Kec...   \n",
              "74     4.0  Beraban, Kec. Kediri, Kabupaten Tabanan, Bali ...   \n",
              "\n",
              "                                                 Tags  \n",
              "0   bagai produk khas bal upa baju vip camil handy...  \n",
              "1   bal swing tegalalang gantung antara pohon pale...  \n",
              "2   patung garuda wisnu kencana jadi ikon pariwisa...  \n",
              "3   pantai jimbaran bal salah satu pantai pasir pu...  \n",
              "4   bal joger kenal kalang wisatawan bagai tempat ...  \n",
              "..                                                ...  \n",
              "70  broken beach lebih kenal bagai pasih uug warga...  \n",
              "71  danau rat bedugul rupa buah danau bal keliling...  \n",
              "72  nominasi tunjuk bagai situs waris dunia unesco...  \n",
              "73  pura luhur batukaru buah pura letak lereng gun...  \n",
              "74  tanah lot salah satu pura penting umat hindu b...  \n",
              "\n",
              "[75 rows x 8 columns]"
            ],
            "text/html": [
              "\n",
              "  <div id=\"df-08971892-24ab-470b-b08b-a15eae157e35\">\n",
              "    <div class=\"colab-df-container\">\n",
              "      <div>\n",
              "<style scoped>\n",
              "    .dataframe tbody tr th:only-of-type {\n",
              "        vertical-align: middle;\n",
              "    }\n",
              "\n",
              "    .dataframe tbody tr th {\n",
              "        vertical-align: top;\n",
              "    }\n",
              "\n",
              "    .dataframe thead th {\n",
              "        text-align: right;\n",
              "    }\n",
              "</style>\n",
              "<table border=\"1\" class=\"dataframe\">\n",
              "  <thead>\n",
              "    <tr style=\"text-align: right;\">\n",
              "      <th></th>\n",
              "      <th>Place_Id</th>\n",
              "      <th>Place_Name</th>\n",
              "      <th>Description</th>\n",
              "      <th>Category</th>\n",
              "      <th>City</th>\n",
              "      <th>Rating</th>\n",
              "      <th>Alamat</th>\n",
              "      <th>Tags</th>\n",
              "    </tr>\n",
              "  </thead>\n",
              "  <tbody>\n",
              "    <tr>\n",
              "      <th>0</th>\n",
              "      <td>2</td>\n",
              "      <td>Agung Bali</td>\n",
              "      <td>Dapatkan berbagai produk oleh-oleh khas Bali b...</td>\n",
              "      <td>Belanja</td>\n",
              "      <td>Badung</td>\n",
              "      <td>4.0</td>\n",
              "      <td>Jln. Dewi Sri No.18XX, Kuta, Badung, Bali</td>\n",
              "      <td>bagai produk khas bal upa baju vip camil handy...</td>\n",
              "    </tr>\n",
              "    <tr>\n",
              "      <th>1</th>\n",
              "      <td>10</td>\n",
              "      <td>Bali Swing</td>\n",
              "      <td>Bali Swing Tegalalang yang menggantung di anta...</td>\n",
              "      <td>Rekreasi</td>\n",
              "      <td>Badung</td>\n",
              "      <td>4.5</td>\n",
              "      <td>Jl. Dewi Saraswati No.7, Bongkasa Pertiwi, Kec...</td>\n",
              "      <td>bal swing tegalalang gantung antara pohon pale...</td>\n",
              "    </tr>\n",
              "    <tr>\n",
              "      <th>2</th>\n",
              "      <td>22</td>\n",
              "      <td>Garuda Wisnu Kencana</td>\n",
              "      <td>Patung Garuda Wisnu Kencana menjadi ikon pariw...</td>\n",
              "      <td>Budaya</td>\n",
              "      <td>Badung</td>\n",
              "      <td>3.5</td>\n",
              "      <td>Jl. Raya Uluwatu, Ungasan, Kec. Kuta Sel., Kab...</td>\n",
              "      <td>patung garuda wisnu kencana jadi ikon pariwisa...</td>\n",
              "    </tr>\n",
              "    <tr>\n",
              "      <th>3</th>\n",
              "      <td>29</td>\n",
              "      <td>Pantai Jimbaran</td>\n",
              "      <td>Pantai Jimbaran Bali adalah salah satu pantai ...</td>\n",
              "      <td>Pantai</td>\n",
              "      <td>Badung</td>\n",
              "      <td>4.0</td>\n",
              "      <td>Kecamatan Kuta selatan, kabupaten Badung, Prov...</td>\n",
              "      <td>pantai jimbaran bal salah satu pantai pasir pu...</td>\n",
              "    </tr>\n",
              "    <tr>\n",
              "      <th>4</th>\n",
              "      <td>30</td>\n",
              "      <td>Pabrik Kata-Kata Joger</td>\n",
              "      <td>Bali Joger terkenal di kalangan wisatawan seba...</td>\n",
              "      <td>Belanja</td>\n",
              "      <td>Badung</td>\n",
              "      <td>4.0</td>\n",
              "      <td>Jl. Raya Kuta, Kuta, Kec. Kuta, Kabupaten Badu...</td>\n",
              "      <td>bal joger kenal kalang wisatawan bagai tempat ...</td>\n",
              "    </tr>\n",
              "    <tr>\n",
              "      <th>...</th>\n",
              "      <td>...</td>\n",
              "      <td>...</td>\n",
              "      <td>...</td>\n",
              "      <td>...</td>\n",
              "      <td>...</td>\n",
              "      <td>...</td>\n",
              "      <td>...</td>\n",
              "      <td>...</td>\n",
              "    </tr>\n",
              "    <tr>\n",
              "      <th>70</th>\n",
              "      <td>50</td>\n",
              "      <td>Pantai Pasih Uug</td>\n",
              "      <td>Broken Beach atau yang lebih dikenal sebagai P...</td>\n",
              "      <td>Pantai</td>\n",
              "      <td>Klungkung</td>\n",
              "      <td>4.5</td>\n",
              "      <td>Lembongan, Kec. Nusa Penida, Kabupaten Klungku...</td>\n",
              "      <td>broken beach lebih kenal bagai pasih uug warga...</td>\n",
              "    </tr>\n",
              "    <tr>\n",
              "      <th>71</th>\n",
              "      <td>16</td>\n",
              "      <td>Danau Beratan Bedugul</td>\n",
              "      <td>Danau Beratan Bedugul merupakan sebuah danau y...</td>\n",
              "      <td>Alam</td>\n",
              "      <td>Tabanan</td>\n",
              "      <td>4.5</td>\n",
              "      <td>Kec. Baturiti, Kabupaten Tabanan, Bali</td>\n",
              "      <td>danau rat bedugul rupa buah danau bal keliling...</td>\n",
              "    </tr>\n",
              "    <tr>\n",
              "      <th>72</th>\n",
              "      <td>28</td>\n",
              "      <td>Jatiluwih Green Land</td>\n",
              "      <td>Nominasi untuk penunjukan sebagai situs Warisa...</td>\n",
              "      <td>Agrowisata</td>\n",
              "      <td>Tabanan</td>\n",
              "      <td>4.5</td>\n",
              "      <td>Jl. Jatiluwih Kawan No.Desa, Jatiluwih, Kec. P...</td>\n",
              "      <td>nominasi tunjuk bagai situs waris dunia unesco...</td>\n",
              "    </tr>\n",
              "    <tr>\n",
              "      <th>73</th>\n",
              "      <td>61</td>\n",
              "      <td>Pura Luhur Batukaru</td>\n",
              "      <td>Pura Luhur Batukaru adalah sebuah pura yang te...</td>\n",
              "      <td>Religius</td>\n",
              "      <td>Tabanan</td>\n",
              "      <td>4.5</td>\n",
              "      <td>Jl. Penatahan - Wongayagede, Wongaya Gede, Kec...</td>\n",
              "      <td>pura luhur batukaru buah pura letak lereng gun...</td>\n",
              "    </tr>\n",
              "    <tr>\n",
              "      <th>74</th>\n",
              "      <td>64</td>\n",
              "      <td>Pura Tanah Lot</td>\n",
              "      <td>Tanah Lot salah satu pura penting bagi umat Hi...</td>\n",
              "      <td>Pantai</td>\n",
              "      <td>Tabanan</td>\n",
              "      <td>4.0</td>\n",
              "      <td>Beraban, Kec. Kediri, Kabupaten Tabanan, Bali ...</td>\n",
              "      <td>tanah lot salah satu pura penting umat hindu b...</td>\n",
              "    </tr>\n",
              "  </tbody>\n",
              "</table>\n",
              "<p>75 rows × 8 columns</p>\n",
              "</div>\n",
              "      <button class=\"colab-df-convert\" onclick=\"convertToInteractive('df-08971892-24ab-470b-b08b-a15eae157e35')\"\n",
              "              title=\"Convert this dataframe to an interactive table.\"\n",
              "              style=\"display:none;\">\n",
              "        \n",
              "  <svg xmlns=\"http://www.w3.org/2000/svg\" height=\"24px\"viewBox=\"0 0 24 24\"\n",
              "       width=\"24px\">\n",
              "    <path d=\"M0 0h24v24H0V0z\" fill=\"none\"/>\n",
              "    <path d=\"M18.56 5.44l.94 2.06.94-2.06 2.06-.94-2.06-.94-.94-2.06-.94 2.06-2.06.94zm-11 1L8.5 8.5l.94-2.06 2.06-.94-2.06-.94L8.5 2.5l-.94 2.06-2.06.94zm10 10l.94 2.06.94-2.06 2.06-.94-2.06-.94-.94-2.06-.94 2.06-2.06.94z\"/><path d=\"M17.41 7.96l-1.37-1.37c-.4-.4-.92-.59-1.43-.59-.52 0-1.04.2-1.43.59L10.3 9.45l-7.72 7.72c-.78.78-.78 2.05 0 2.83L4 21.41c.39.39.9.59 1.41.59.51 0 1.02-.2 1.41-.59l7.78-7.78 2.81-2.81c.8-.78.8-2.07 0-2.86zM5.41 20L4 18.59l7.72-7.72 1.47 1.35L5.41 20z\"/>\n",
              "  </svg>\n",
              "      </button>\n",
              "      \n",
              "  <style>\n",
              "    .colab-df-container {\n",
              "      display:flex;\n",
              "      flex-wrap:wrap;\n",
              "      gap: 12px;\n",
              "    }\n",
              "\n",
              "    .colab-df-convert {\n",
              "      background-color: #E8F0FE;\n",
              "      border: none;\n",
              "      border-radius: 50%;\n",
              "      cursor: pointer;\n",
              "      display: none;\n",
              "      fill: #1967D2;\n",
              "      height: 32px;\n",
              "      padding: 0 0 0 0;\n",
              "      width: 32px;\n",
              "    }\n",
              "\n",
              "    .colab-df-convert:hover {\n",
              "      background-color: #E2EBFA;\n",
              "      box-shadow: 0px 1px 2px rgba(60, 64, 67, 0.3), 0px 1px 3px 1px rgba(60, 64, 67, 0.15);\n",
              "      fill: #174EA6;\n",
              "    }\n",
              "\n",
              "    [theme=dark] .colab-df-convert {\n",
              "      background-color: #3B4455;\n",
              "      fill: #D2E3FC;\n",
              "    }\n",
              "\n",
              "    [theme=dark] .colab-df-convert:hover {\n",
              "      background-color: #434B5C;\n",
              "      box-shadow: 0px 1px 3px 1px rgba(0, 0, 0, 0.15);\n",
              "      filter: drop-shadow(0px 1px 2px rgba(0, 0, 0, 0.3));\n",
              "      fill: #FFFFFF;\n",
              "    }\n",
              "  </style>\n",
              "\n",
              "      <script>\n",
              "        const buttonEl =\n",
              "          document.querySelector('#df-08971892-24ab-470b-b08b-a15eae157e35 button.colab-df-convert');\n",
              "        buttonEl.style.display =\n",
              "          google.colab.kernel.accessAllowed ? 'block' : 'none';\n",
              "\n",
              "        async function convertToInteractive(key) {\n",
              "          const element = document.querySelector('#df-08971892-24ab-470b-b08b-a15eae157e35');\n",
              "          const dataTable =\n",
              "            await google.colab.kernel.invokeFunction('convertToInteractive',\n",
              "                                                     [key], {});\n",
              "          if (!dataTable) return;\n",
              "\n",
              "          const docLinkHtml = 'Like what you see? Visit the ' +\n",
              "            '<a target=\"_blank\" href=https://colab.research.google.com/notebooks/data_table.ipynb>data table notebook</a>'\n",
              "            + ' to learn more about interactive tables.';\n",
              "          element.innerHTML = '';\n",
              "          dataTable['output_type'] = 'display_data';\n",
              "          await google.colab.output.renderOutput(dataTable, element);\n",
              "          const docLink = document.createElement('div');\n",
              "          docLink.innerHTML = docLinkHtml;\n",
              "          element.appendChild(docLink);\n",
              "        }\n",
              "      </script>\n",
              "    </div>\n",
              "  </div>\n",
              "  "
            ]
          },
          "metadata": {},
          "execution_count": 8
        }
      ]
    },
    {
      "cell_type": "code",
      "source": [
        "# content based filtering\n",
        "def recommend_by_content_based_filtering(nama_tempat):\n",
        "    matched_tempats = []\n",
        "\n",
        "    for index, tempat in data_content_based_filtering.iterrows():\n",
        "        nama_tempat_similarity = fuzz.token_set_ratio(nama_tempat.lower(), tempat['Place_Name'].lower())\n",
        "        city_similarity = fuzz.token_set_ratio(nama_tempat.lower(), tempat['City'].lower())\n",
        "        combined_similarity = (nama_tempat_similarity + city_similarity) / 2\n",
        "        matched_tempats.append((index, combined_similarity))\n",
        "\n",
        "    matched_tempats = sorted(matched_tempats, key=lambda x: x[1], reverse=True)\n",
        "    matched_tempats = matched_tempats[:10]  # Ambil 10 tempat terbaik\n",
        "\n",
        "    recommended_nama_tempats = []\n",
        "    for match in matched_tempats:\n",
        "        tempat_index = match[0]\n",
        "        place_name = data_content_based_filtering.iloc[tempat_index]['Place_Name']\n",
        "        place_id = data_content_based_filtering.iloc[tempat_index]['Place_Id']\n",
        "        recommended_nama_tempats.append([place_name, place_id])\n",
        "\n",
        "    return recommended_nama_tempats\n",
        "\n",
        "\n"
      ],
      "metadata": {
        "id": "oKRzmYlXL_o7"
      },
      "execution_count": null,
      "outputs": []
    },
    {
      "cell_type": "markdown",
      "source": [],
      "metadata": {
        "id": "iQHVvTWJHn9v"
      }
    },
    {
      "cell_type": "code",
      "source": [
        "recommend_by_content_based_filtering('pantai murah di badung')"
      ],
      "metadata": {
        "colab": {
          "base_uri": "https://localhost:8080/"
        },
        "id": "DEokOaIL1FPg",
        "outputId": "088a185f-0599-432d-afb8-b52d321fda20"
      },
      "execution_count": null,
      "outputs": [
        {
          "output_type": "execute_result",
          "data": {
            "text/plain": [
              "[['Pantai Kuta', 45],\n",
              " ['Pantai Nusa Dua', 47],\n",
              " ['Pantai Canggu', 39],\n",
              " ['Pantai Padang Padang', 48],\n",
              " ['Pantai Pandawa', 49],\n",
              " ['Pantai Melasti', 46],\n",
              " ['Pantai Jimbaran', 29],\n",
              " ['Pantai Seminyak', 54],\n",
              " ['Pantai Double Six', 42],\n",
              " ['Pantai Dreamland', 43]]"
            ]
          },
          "metadata": {},
          "execution_count": 13
        }
      ]
    },
    {
      "cell_type": "code",
      "source": [],
      "metadata": {
        "id": "CNyt4aatOHdm"
      },
      "execution_count": null,
      "outputs": []
    }
  ]
}